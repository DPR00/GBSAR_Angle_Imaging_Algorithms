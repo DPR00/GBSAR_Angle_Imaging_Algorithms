{
 "cells": [
  {
   "cell_type": "code",
   "execution_count": 1,
   "metadata": {},
   "outputs": [],
   "source": [
    "import sarPrm as sP\n",
    "import numpy as np\n",
    "import matplotlib.pyplot as plt\n"
   ]
  },
  {
   "cell_type": "code",
   "execution_count": 2,
   "metadata": {},
   "outputs": [
    {
     "data": {
      "image/png": "[encoded data removed]",
      "text/plain": [
       "<Figure size 432x288 with 1 Axes>"
      ]
     },
     "metadata": {
      "needs_background": "light"
     },
     "output_type": "display_data"
    }
   ],
   "source": [
    "I_t, rt= sP.get_matrix_data5()"
   ]
  },
  {
   "cell_type": "code",
   "execution_count": 92,
   "metadata": {},
   "outputs": [
    {
     "data": {
      "text/plain": [
       "array([[0, 0, 0, 0, 0, 0, 0, 1, 1, 1, 1, 1, 1, 1, 0, 0, 0, 0, 0, 0, 0],\n",
       "       [0, 0, 0, 0, 0, 0, 0, 1, 1, 1, 1, 1, 1, 1, 0, 0, 0, 0, 0, 0, 0],\n",
       "       [0, 0, 0, 0, 0, 0, 0, 1, 1, 1, 1, 1, 1, 1, 0, 0, 0, 0, 0, 0, 0],\n",
       "       [0, 0, 0, 0, 0, 0, 0, 1, 1, 1, 1, 1, 1, 1, 0, 0, 0, 0, 0, 0, 0],\n",
       "       [0, 0, 0, 0, 0, 0, 0, 1, 1, 1, 1, 1, 1, 1, 0, 0, 0, 0, 0, 0, 0],\n",
       "       [0, 0, 0, 0, 0, 0, 0, 1, 1, 1, 1, 1, 1, 1, 0, 0, 0, 0, 0, 0, 0],\n",
       "       [0, 0, 0, 0, 0, 0, 0, 1, 1, 1, 1, 1, 1, 1, 0, 0, 0, 0, 0, 0, 0],\n",
       "       [0, 0, 0, 0, 0, 0, 0, 1, 1, 1, 1, 1, 1, 1, 0, 0, 0, 0, 0, 0, 0],\n",
       "       [0, 0, 0, 0, 0, 0, 0, 1, 1, 1, 1, 1, 1, 1, 0, 0, 0, 0, 0, 0, 0],\n",
       "       [0, 0, 0, 0, 0, 0, 0, 1, 1, 1, 1, 1, 1, 1, 0, 0, 0, 0, 0, 0, 0],\n",
       "       [0, 0, 0, 0, 0, 0, 0, 1, 1, 1, 1, 1, 1, 1, 0, 0, 0, 0, 0, 0, 0],\n",
       "       [0, 0, 0, 0, 0, 0, 0, 1, 1, 1, 1, 1, 1, 1, 0, 0, 0, 0, 0, 0, 0],\n",
       "       [0, 0, 0, 0, 0, 0, 0, 1, 1, 1, 1, 1, 1, 1, 0, 0, 0, 0, 0, 0, 0],\n",
       "       [0, 0, 0, 0, 0, 0, 0, 1, 1, 1, 1, 1, 1, 1, 0, 0, 0, 0, 0, 0, 0],\n",
       "       [1, 1, 1, 1, 1, 1, 1, 1, 1, 1, 1, 1, 1, 1, 1, 1, 1, 1, 1, 1, 1],\n",
       "       [1, 1, 1, 1, 1, 1, 1, 1, 1, 1, 1, 1, 1, 1, 1, 1, 1, 1, 1, 1, 1],\n",
       "       [1, 1, 1, 1, 1, 1, 1, 1, 1, 1, 1, 1, 1, 1, 1, 1, 1, 1, 1, 1, 1],\n",
       "       [1, 1, 1, 1, 1, 1, 1, 1, 1, 1, 1, 1, 1, 1, 1, 1, 1, 1, 1, 1, 1],\n",
       "       [1, 1, 1, 1, 1, 1, 1, 1, 1, 1, 1, 1, 1, 1, 1, 1, 1, 1, 1, 1, 1],\n",
       "       [1, 1, 1, 1, 1, 1, 1, 1, 1, 1, 1, 1, 1, 1, 1, 1, 1, 1, 1, 1, 1],\n",
       "       [1, 1, 1, 1, 1, 1, 1, 1, 1, 1, 1, 1, 1, 1, 1, 1, 1, 1, 1, 1, 1]])"
      ]
     },
     "execution_count": 92,
     "metadata": {},
     "output_type": "execute_result"
    }
   ],
   "source": [
    "Data"
   ]
  },
  {
   "cell_type": "code",
   "execution_count": 96,
   "metadata": {},
   "outputs": [
    {
     "data": {
      "text/plain": [
       "[Text(0.5, 0, 'Eje x(m)'),\n",
       " Text(0, 0.5, 'Eje y(m)'),\n",
       " Text(0.5, 1.0, 'Imagen para la simulación')]"
      ]
     },
     "execution_count": 96,
     "metadata": {},
     "output_type": "execute_result"
    },
    {
     "data": {
      "image/png": "[encoded data removed]",
      "text/plain": [
       "<Figure size 432x288 with 1 Axes>"
      ]
     },
     "metadata": {
      "needs_background": "light"
     },
     "output_type": "display_data"
    }
   ],
   "source": [
    "ro_x, ro_y = -5, 3 # Posicion inicial (x,y)m\n",
    "d_x, d_y = 0.25,0.25#0.125,0.125 #0.25, 0.25 # Paso en los ejes (x,y)m\n",
    "N_r, N_c = 16,41\n",
    "\n",
    "# Formando las letras x separado\n",
    "# Letra U\n",
    "letraU = np.array([[1]*11]*3+[[1]*3+[0]*5+[1]*3]*13)\n",
    "# Letra N\n",
    "letraN = np.array([[1]*16]*3+[[0]*10+[1]*4+[0]*2]*1+[[0]*8+[1]*4+[0]*4]*1+[[0]*6+[1]*4+[0]*6]*1+[[0]*4+[1]*4+[0]*8]*1+[[0]*2+[1]*4+[0]*10]*1+[[1]*16]*3).T\n",
    "# Letra I\n",
    "letraI = np.array([[1]*11]*3+[[0]*4+[1]*3+[0]*4]*10+[[1]*11]*3)\n",
    "\n",
    "# Joining all the letters\n",
    "Data = np.zeros((16,41))\n",
    "Data[:,2:13] = letraU\n",
    "Data[:,15:26] = letraN\n",
    "Data[:,28:39] = letraI\n",
    "\n",
    "I_t = Data.reshape(1,N_r*N_c)[0] # Vector de intensidades\n",
    "\n",
    "rt_x=ro_x+d_x*np.arange(N_c) # Coordenada x de los targets(empezando en ro_x)\n",
    "rt_y=ro_y+d_y*np.arange(N_r) # Coordenada y de los targets(empezando en ro_y)\n",
    "rt=np.array([(x,y) for y in rt_y for x in rt_x]) #  Vector de coordenadas (x,y)\n",
    "\n",
    "# Grafica de la imagen a simular\n",
    "fig, ax = plt.subplots()\n",
    "ax.imshow(Data,aspect='auto',origin='lower',extent=[rt_x.min(), rt_x.max(), rt_y.min(),rt_y.max()])\n",
    "ax.set(xlabel='Eje x(m)',ylabel='Eje y(m)', title='Imagen para la simulación')\n",
    "\n"
   ]
  },
  {
   "cell_type": "code",
   "execution_count": 3,
   "metadata": {},
   "outputs": [
    {
     "data": {
      "text/plain": [
       "[Text(0.5, 0, 'Eje x(m)'),\n",
       " Text(0, 0.5, 'Eje y(m)'),\n",
       " Text(0.5, 1.0, 'Imagen para la simulación')]"
      ]
     },
     "execution_count": 3,
     "metadata": {},
     "output_type": "execute_result"
    },
    {
     "data": {
      "image/png": "[encoded data removed]",
      "text/plain": [
       "<Figure size 432x288 with 1 Axes>"
      ]
     },
     "metadata": {
      "needs_background": "light"
     },
     "output_type": "display_data"
    }
   ],
   "source": [
    "ro_x, ro_y = -5, 3 # Posicion inicial (x,y)m\n",
    "d_x, d_y = 0.25,0.25#0.125,0.125 #0.25, 0.25 # Paso en los ejes (x,y)m\n",
    "N_r, N_c = 16,41\n",
    "\n",
    "# Formando las letras x separado\n",
    "# Letra I\n",
    "letraI = np.array([[1]*11]*3+[[0]*4+[1]*3+[0]*4]*10+[[1]*11]*3)\n",
    "# Letra U\n",
    "letraG = np.array([[1]*11]*3+[[1]*3+[0]*5+[1]*3]*3+[[1]*3+[0]*2+[1]*6]*3+[[1]*3+[0]*8]*4+[[1]*11]*3)\n",
    "# Letra N\n",
    "letraP = np.array([[[1]*3+[0]*8]*8 + [[1]*11]*2 + [[1]*3+[0]*5+[1]*3]*4 + [[1]*11]*2])\n",
    "\n",
    "# Joining all the letters\n",
    "Data = np.zeros((16,41))\n",
    "Data[:,2:13] = letraI\n",
    "Data[:,15:26] = letraG\n",
    "Data[:,28:39] = letraP\n",
    "\n",
    "I_t = Data.reshape(1,N_r*N_c)[0] # Vector de intensidades\n",
    "\n",
    "rt_x=ro_x+d_x*np.arange(N_c) # Coordenada x de los targets(empezando en ro_x)\n",
    "rt_y=ro_y+d_y*np.arange(N_r) # Coordenada y de los targets(empezando en ro_y)\n",
    "rt=np.array([(x,y) for y in rt_y for x in rt_x]) #  Vector de coordenadas (x,y)\n",
    "\n",
    "# Grafica de la imagen a simular\n",
    "fig, ax = plt.subplots()\n",
    "ax.imshow(Data,aspect='auto',origin='lower',extent=[rt_x.min(), rt_x.max(), rt_y.min(),rt_y.max()])\n",
    "ax.set(xlabel='Eje x(m)',ylabel='Eje y(m)', title='Imagen para la simulación')\n",
    "\n"
   ]
  },
  {
   "cell_type": "code",
   "execution_count": 91,
   "metadata": {},
   "outputs": [
    {
     "data": {
      "text/plain": [
       "[Text(0.5, 0, 'Eje x(m)'),\n",
       " Text(0, 0.5, 'Eje y(m)'),\n",
       " Text(0.5, 1.0, 'Imagen para la simulación')]"
      ]
     },
     "execution_count": 91,
     "metadata": {},
     "output_type": "execute_result"
    },
    {
     "data": {
      "image/png": "[encoded data removed]",
      "text/plain": [
       "<Figure size 432x288 with 1 Axes>"
      ]
     },
     "metadata": {
      "needs_background": "light"
     },
     "output_type": "display_data"
    }
   ],
   "source": [
    "N_c = 21\n",
    "Data = np.array([[0]*7+[1]*7+[0]*7]*14+[[1]*N_c]*7)\n",
    "\n",
    "ro_x, ro_y = -2.5, 2 # Posicion inicial (x,y)m\n",
    "d_x, d_y = 0.25,0.25#0.125,0.125 #0.25, 0.25 # Paso en los ejes (x,y)m\n",
    "N_r, N_c = 21,21#41,41 #21, 21 # Numero de filas y columnas de la matriz de targets\n",
    "Data = np.array([[0]*7+[1]*7+[0]*7]*14+[[1]*N_c]*7)#np.array([[0]*13+[1]*15+[0]*13]*28+[[1]*N_c]*13) #np.array([[0]*4+[1]*3+[0]*4]*7+[[1]*N_c]*4)\n",
    "I_t = Data.reshape(1,N_r*N_c)[0] # Vector de intensidades\n",
    "\n",
    "rt_x=ro_x+d_x*np.arange(N_c) # Coordenada x de los targets(empezando en ro_x)\n",
    "rt_y=ro_y+d_y*np.arange(N_r) # Coordenada y de los targets(empezando en ro_y)\n",
    "fig, ax = plt.subplots()\n",
    "ax.imshow(Data,aspect='auto',origin='lower',extent=[rt_x.min(), rt_x.max(), rt_y.min(),rt_y.max()])\n",
    "ax.set(xlabel='Eje x(m)',ylabel='Eje y(m)', title='Imagen para la simulación')"
   ]
  },
  {
   "cell_type": "code",
   "execution_count": 85,
   "metadata": {},
   "outputs": [
    {
     "data": {
      "text/plain": [
       "(14, 21)"
      ]
     },
     "execution_count": 85,
     "metadata": {},
     "output_type": "execute_result"
    }
   ],
   "source": [
    "a = np.array([[0]*7 + [1]*7 + [0]*7]*14)\n",
    "a.shape"
   ]
  },
  {
   "cell_type": "code",
   "execution_count": 69,
   "metadata": {},
   "outputs": [],
   "source": [
    "def get_matrix_data3():\n",
    "    # Se define una imagen con la letra ROJ\n",
    "\n",
    "    ro_x, ro_y = -5, 3 # Posicion inicial (x,y)m\n",
    "    d_x, d_y = 0.25,0.25#0.125,0.125 #0.25, 0.25 # Paso en los ejes (x,y)m\n",
    "    N_r, N_c = 16,41\n",
    "\n",
    "    # Formando las letras x separado\n",
    "    # Letra R\n",
    "    #letraR = np.array([[1]*3+[0]*6+[1]*2]*2+[[1]*3+[0]*4+[1]*2+[0]*2]*2+[[1]*3+[0]*2+[1]*2+[0]*4]*2+[[1]*5+[0]*6]*2+[[1]*11]*8)\n",
    "    letraR = np.array([[1]*3+[0]*6+[1]*2]*2+[[1]*3+[0]*4+[1]*2+[0]*2]*2+[[1]*3+[0]*2+[1]*2+[0]*4]*2+[[1]*5+[0]*6]*2+[[1]*11]*3+[[1]*3+[0]*5+[1]*3]*2+[[1]*11]*3)\n",
    "    # Letra 0\n",
    "    #letraO = np.ones((16,11))\n",
    "    letraO = np.array([[1]*11]*3+[[1]*3+[0]*5+[1]*3]*10+[[1]*11]*3)\n",
    "    # Letra J\n",
    "    letraJ = np.array([[1]*9+[0]*2]*3+[[1]*3+[0]*3+[1]*3+[0]*2]*2+[[0]*6+[1]*3+[0]*2]*8+[[1]*11]*3)\n",
    "    # Joining all the letters\n",
    "    Data = np.zeros((16,41))\n",
    "    Data[:,2:13] = letraR\n",
    "    Data[:,15:26] = letraO\n",
    "    Data[:,28:39] = letraJ\n",
    "\n",
    "    I_t = Data.reshape(1,N_r*N_c)[0] # Vector de intensidades\n",
    "\n",
    "    rt_x=ro_x+d_x*np.arange(N_c) # Coordenada x de los targets(empezando en ro_x)\n",
    "    rt_y=ro_y+d_y*np.arange(N_r) # Coordenada y de los targets(empezando en ro_y)\n",
    "    rt=np.array([(x,y) for y in rt_y for x in rt_x]) #  Vector de coordenadas (x,y)\n",
    "    print(\"n\")\n",
    "    # Grafica de la imagen a simular\n",
    "    if show:\n",
    "        print(\"a\")\n",
    "        fig, ax = plt.subplots()\n",
    "        ax.imshow(Data,aspect='auto',origin='lower',extent=[rt_x.min(), rt_x.max(), rt_y.min(),rt_y.max()])\n",
    "        ax.set(xlabel='Eje x(m)',ylabel='Eje y(m)', title='Imagen para la simulación')\n",
    "        plt.show()\n",
    "\n",
    "    return I_t, rt\n"
   ]
  },
  {
   "cell_type": "code",
   "execution_count": 60,
   "metadata": {},
   "outputs": [],
   "source": [
    "def get_matrix_dataIGP():\n",
    "    # Se define una imagen con la letra T\n",
    "    show = 1\n",
    "    ro_x, ro_y = -2.5, 2 # Posicion inicial (x,y)m\n",
    "    d_x, d_y = 0.25,0.25#0.125,0.125 #0.25, 0.25 # Paso en los ejes (x,y)m\n",
    "    N_r, N_c = 21,21#41,41 #21, 21 # Numero de filas y columnas de la matriz de targets\n",
    "    Data = np.array([[0]*7+[1]*7+[0]*7]*14+[[1]*N_c]*7)#np.array([[0]*13+[1]*15+[0]*13]*28+[[1]*N_c]*13) #np.array([[0]*4+[1]*3+[0]*4]*7+[[1]*N_c]*4)\n",
    "    I_t = Data.reshape(1,N_r*N_c)[0] # Vector de intensidades\n",
    "\n",
    "    rt_x=ro_x+d_x*np.arange(N_c) # Coordenada x de los targets(empezando en ro_x)\n",
    "    rt_y=ro_y+d_y*np.arange(N_r) # Coordenada y de los targets(empezando en ro_y)\n",
    "    rt=np.array([(x,y) for y in rt_y for x in rt_x]) #  Vector de coordenadas (x,y)\n",
    "\n",
    "    # Grafica de la imagen a simular\n",
    "    if show:\n",
    "        fig, ax = plt.subplots()\n",
    "        ax.imshow(Data,aspect='auto',origin='lower',extent=[rt_x.min(), rt_x.max(), rt_y.min(),rt_y.max()])\n",
    "        ax.set(xlabel='Eje x(m)',ylabel='Eje y(m)', title='Imagen para la simulación')\n",
    "\n",
    "    return I_t, rt"
   ]
  }
 ],
 "metadata": {
  "interpreter": {
   "hash": "df0893f56f349688326838aaeea0de204df53a132722cbd565e54b24a8fec5f6"
  },
  "kernelspec": {
   "display_name": "Python 3.8.12 64-bit",
   "language": "python",
   "name": "python3"
  },
  "language_info": {
   "codemirror_mode": {
    "name": "ipython",
    "version": 3
   },
   "file_extension": ".py",
   "mimetype": "text/x-python",
   "name": "python",
   "nbconvert_exporter": "python",
   "pygments_lexer": "ipython3",
   "version": "3.6.9"
  },
  "orig_nbformat": 4
 },
 "nbformat": 4,
 "nbformat_minor": 2
}
